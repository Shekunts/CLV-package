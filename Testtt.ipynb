{
 "cells": [
  {
   "cell_type": "code",
   "execution_count": 4,
   "id": "6c32d89f",
   "metadata": {},
   "outputs": [
    {
     "ename": "ModuleNotFoundError",
     "evalue": "No module named 'CLV'",
     "output_type": "error",
     "traceback": [
      "\u001b[0;31m---------------------------------------------------------------------------\u001b[0m",
      "\u001b[0;31mModuleNotFoundError\u001b[0m                       Traceback (most recent call last)",
      "\u001b[0;32m<ipython-input-4-e0d34b8195f1>\u001b[0m in \u001b[0;36m<module>\u001b[0;34m\u001b[0m\n\u001b[0;32m----> 1\u001b[0;31m \u001b[0;32mfrom\u001b[0m \u001b[0mCLV\u001b[0m \u001b[0;32mimport\u001b[0m \u001b[0mclv\u001b[0m\u001b[0;34m\u001b[0m\u001b[0;34m\u001b[0m\u001b[0m\n\u001b[0m",
      "\u001b[0;31mModuleNotFoundError\u001b[0m: No module named 'CLV'"
     ]
    }
   ],
   "source": [
    "from CLV import clv"
   ]
  },
  {
   "cell_type": "code",
   "execution_count": null,
   "id": "14a23457",
   "metadata": {},
   "outputs": [],
   "source": [
    "data = clv.prep_data(\"Book1.xlsx\")\n",
    "data.head()"
   ]
  },
  {
   "cell_type": "code",
   "execution_count": null,
   "id": "48603a2a",
   "metadata": {},
   "outputs": [],
   "source": [
    "clv.best_model(data)"
   ]
  },
  {
   "cell_type": "code",
   "execution_count": null,
   "id": "bf2f563a",
   "metadata": {},
   "outputs": [],
   "source": [
    "clv.calc_CLV(data)"
   ]
  },
  {
   "cell_type": "code",
   "execution_count": null,
   "id": "e5ea3595",
   "metadata": {},
   "outputs": [],
   "source": [
    "clv.vis_CLV(data, \"age\")"
   ]
  },
  {
   "cell_type": "code",
   "execution_count": null,
   "id": "4b64088d",
   "metadata": {},
   "outputs": [],
   "source": [
    "clv.hyp_test(data, \"gender\")"
   ]
  },
  {
   "cell_type": "code",
   "execution_count": null,
   "id": "3acee040",
   "metadata": {},
   "outputs": [],
   "source": [
    "clv.hyp_test_segment(data, \"gender\")"
   ]
  },
  {
   "cell_type": "code",
   "execution_count": null,
   "id": "d772692d",
   "metadata": {},
   "outputs": [],
   "source": []
  }
 ],
 "metadata": {
  "kernelspec": {
   "display_name": "Python 3",
   "language": "python",
   "name": "python3"
  },
  "language_info": {
   "codemirror_mode": {
    "name": "ipython",
    "version": 3
   },
   "file_extension": ".py",
   "mimetype": "text/x-python",
   "name": "python",
   "nbconvert_exporter": "python",
   "pygments_lexer": "ipython3",
   "version": "3.8.8"
  }
 },
 "nbformat": 4,
 "nbformat_minor": 5
}
